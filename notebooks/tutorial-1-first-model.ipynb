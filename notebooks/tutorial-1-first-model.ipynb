{
 "cells": [
  {
   "cell_type": "markdown",
   "metadata": {},
   "source": [
    "# Welcome to Time Series! #\n",
    "\n",
    "In this micro-course you'll learn an invaluble skill: how to predict the future!\n",
    "\n",
    "![Image](../images/header.png)\n",
    "\n",
    "After completing this micro-course, you'll be able to:\n",
    "- Forecast the trend of a search term with linear regression.\n",
    "- Predict the daily page-views of a website with [Prophet](https://facebook.github.io/prophet/).\n",
    "- Estimate market demand for a ride-sharing company with XGBoost.\n",
    "- Find highly-profitable customers with a Markov model. And,\n",
    "- Build deep learning models to handle even the most complex data sets.\n",
    "\n",
    "You'll be prepared for this micro-course if you know how to [construct a machine learning model](https://www.kaggle.com/dansbecker/your-first-machine-learning-model), [manipulate dataframes with Pandas](https://www.kaggle.com/residentmario/indexing-selecting-assigning), and [use seaborn to explore your data](https://www.kaggle.com/alexisbcook/hello-seaborn). You'll have a leg up if you've done some work on the [House Prices: Advanced Regression Techniques](https://www.kaggle.com/c/house-prices-advanced-regression-techniques) competition, but we'll review what we need as we go."
   ]
  },
  {
   "cell_type": "markdown",
   "metadata": {},
   "source": [
    "# What is a Time Series? #\n",
    "\n",
    "A **time series** is simply a sequence of observations together with the times those observations occured. The times provide an **index** to the observations. Usually, the observations will have been made over some fixed time interval, like every hour or every month.\n",
    "\n",
    "Time series are very common. They occur virtually anywhere data is collected sequentially over time. They have been used to analyze and predict: economic growth, volatility in financial markets, neural behavior, natural disasters like earthquakes and volcanoes, and many others.\n",
    "\n",
    "What characterizes time series is that their observations are sequentially **dependent**. That is, the ordering of the observations is important. This is in contrast to ordinary data sets where the rows can be taken in any order without affecting the analysis.\n",
    "\n",
    "Time series analysis is mostly about working with the extra information that this time dependence provides. Over this micro-course, you'll learn about a number of models especially designed for time series and what to do to make sure you get the most from your data."
   ]
  },
  {
   "cell_type": "markdown",
   "metadata": {},
   "source": [
    "# Your Problem #\n",
    "\n",
    "Let's suppose you work for a book publisher. Your boss has heard that data science has been getting popular and she thinks this might be a market opportunity. She asks you describe how interest in data science has been trending over the last five years, and to forecast the interest one year into the future.\n",
    "\n",
    "You turn to [Google Trends](https://trends.google.com/trends/). With Google Trends you can get a report of the relative popularity over time of search terms on Google. For your analysis, you decide to investigate the popularity of the search term \"data science\", and you retrieve a CSV file for the period of January 25, 2015 to January 25, 2020, with observations taken weekly. (Click \n",
    "[here](https://trends.google.com/trends/explore?date=2015-01-25%202020-01-25&geo=US&q=data%20science) for an interactive graph of this data set.)\n",
    "\n",
    "First, let's load the data into a Pandas DataFrame."
   ]
  },
  {
   "cell_type": "code",
   "execution_count": null,
   "metadata": {},
   "outputs": [],
   "source": [
    "import pandas as pd\n",
    "pd.plotting.register_matplotlib_converters()\n",
    "\n",
    "# Read the file into a variable 'datascience'\n",
    "# Parse the 'Week' column as a date and set it as the index\n",
    "datascience = pd.read_csv('../data/datascience.csv', parse_dates=['Week'], index_col='Week')"
   ]
  },
  {
   "cell_type": "markdown",
   "metadata": {},
   "source": [
    "And let's get a quick overview."
   ]
  },
  {
   "cell_type": "code",
   "execution_count": null,
   "metadata": {},
   "outputs": [],
   "source": [
    "# View the first five weeks of the datascience dataset\n",
    "datascience.head()"
   ]
  },
  {
   "cell_type": "markdown",
   "metadata": {},
   "source": [
    "The numbers in the `Interest` column represent the popularity for that week relative to when the term was most popular over the time observed. Google says: \"A value of 100 is the peak popularity for the term. A value of 50 means that the term is half as popular.\"\n",
    "\n",
    "And we'll glance at some summary statistics."
   ]
  },
  {
   "cell_type": "code",
   "execution_count": null,
   "metadata": {},
   "outputs": [],
   "source": [
    "datascience.describe()"
   ]
  },
  {
   "cell_type": "markdown",
   "metadata": {},
   "source": [
    "# Plotting Time Series #"
   ]
  },
  {
   "cell_type": "code",
   "execution_count": null,
   "metadata": {},
   "outputs": [],
   "source": [
    "import matplotlib.pyplot as plt\n",
    "%matplotlib inline"
   ]
  },
  {
   "cell_type": "markdown",
   "metadata": {},
   "source": [
    "Time series are commonly represented as [line charts](https://www.kaggle.com/alexisbcook/line-charts), with the index along the x-axis. A line chart emphasizes the ordered nature of a time series.\n",
    "\n",
    "You can quickly plot a data frame with the `DataFrame.plot` method. For time series, `pandas` will create a line chart by default."
   ]
  },
  {
   "cell_type": "code",
   "execution_count": null,
   "metadata": {},
   "outputs": [],
   "source": [
    "datascience.plot();"
   ]
  },
  {
   "cell_type": "markdown",
   "metadata": {},
   "source": [
    "For more detailed plots, we'll turn to [seaborn](https://seaborn.pydata.org/index.html). You may have learned about `seaborn` in a [previous micro-course](https://www.kaggle.com/learn/data-visualization). `seaborn` is a powerful and flexible supplement to `matplotlib` for statistical visualization that makes it easy to create impressive data visualizations.\n",
    "\n",
    "First let's set up the plotting environment."
   ]
  },
  {
   "cell_type": "code",
   "execution_count": null,
   "metadata": {},
   "outputs": [],
   "source": [
    "import seaborn as sns\n",
    "# Change to seaborn style\n",
    "sns.set()\n",
    "# Make things a little more legible\n",
    "plt.rc('axes', labelweight='bold', labelsize='large',\n",
    "       titleweight='bold', titlesize='x-large')\n",
    "plt.rc('xtick', labelsize='large')\n",
    "plt.rc('ytick', labelsize='large')\n",
    "plt.rc('legend', fontsize='large')"
   ]
  },
  {
   "cell_type": "markdown",
   "metadata": {},
   "source": [
    "Now we can get a better visualization of our time series. You can add method calls to `plt` to add or modify features of your plot."
   ]
  },
  {
   "cell_type": "code",
   "execution_count": null,
   "metadata": {
    "lines_to_next_cell": 2
   },
   "outputs": [],
   "source": [
    "plt.figure(figsize=(16,6))\n",
    "plt.title(\"Popularity of 'data science'\")\n",
    "sns.lineplot(data=datascience); plt.show()"
   ]
  },
  {
   "cell_type": "markdown",
   "metadata": {},
   "source": [
    "# Fitting a Trend-Line #\n",
    "\n",
    "Because time series are temporally dependent, there ought to be some predictive information in the time index itself, that is, we should be able to treat the time index as a feature.\n",
    "\n",
    "One of the most important ways a time series can depend on time is through a *trend*, meaning a steady rise or fall in the series. Whenever a series is constantly increasing or constantly decreasing on the average, we can capture this trend with a line.\n",
    "\n",
    "For our first model, we will fit a *linear trend-line* using [simple linear regression ](https://en.wikipedia.org/wiki/Simple_linear_regression). Our trend-line model will fit a least-squares line with `Interest` as the target and `Week` as the feature.\n",
    "\n",
    "| ![Time Series with a Linear Trend](../images/linear-trend.png) |\n",
    "|:--:|\n",
    "| **A Time Series with a Linear Trend** |\n",
    "\n",
    "# Prepare Data #\n",
    "\n",
    "There are two issues we must address when preparing our data for training. \n",
    "\n",
    "First, the least-squares model requires numeric features. Since the `Week` variable is a date type, we can't construct the model on it directly. Instead, we represent it with a *time dummy*. The time dummy is just an enumeration of the periods in the time series, beginning at 1. The time dummy for `Week` will go: 1, 2, 3, ..., 261, one for each week."
   ]
  },
  {
   "cell_type": "code",
   "execution_count": null,
   "metadata": {},
   "outputs": [],
   "source": [
    "data = datascience.copy()\n",
    "# Construct the \"time dummy\": 1, 2, 3, ...\n",
    "data['Week'] = range(1, len(data.Interest) + 1)\n",
    "\n",
    "data.head()"
   ]
  },
  {
   "cell_type": "code",
   "execution_count": null,
   "metadata": {},
   "outputs": [],
   "source": [
    "data.tail()"
   ]
  },
  {
   "cell_type": "markdown",
   "metadata": {},
   "source": [
    "Second, we need to be careful when we split our data. Ordinarily, it is good practice to suffle your data set before splitting to ensure the splits are independent. But independent is exactly what the observations in a time series are not. By shuffling, we would destroy that.\n",
    "\n",
    "In forecasting, we want to use information about the past to predict the future. We want to make sure, therefore, that all of the validation data occurs *after* the training data. With time series, the validation set should always be later in time than the training set."
   ]
  },
  {
   "cell_type": "code",
   "execution_count": null,
   "metadata": {},
   "outputs": [],
   "source": [
    "from sklearn.model_selection import train_test_split\n",
    "\n",
    "# Split the data into a training set and a validation set\n",
    "# The order of the observations is important, so don't shuffle\n",
    "train_data, val_data = train_test_split(data, test_size = 0.2, shuffle = False)"
   ]
  },
  {
   "cell_type": "markdown",
   "metadata": {},
   "source": [
    "# Define and Fit the Model #\n",
    "\n",
    "Many of our models for this micro-course will come from the `statsmodels` library. `statsmodels` is like the `sklearn` of time series. It has a number of powerful time series models as well as methods for analysis and visualization.\n",
    "\n",
    "The easiest way to get started with `statsmodels` is through its [formula interface](https://www.statsmodels.org/stable/example_formulas.html). Formulas in `statsmodels` work the same way as formulas in R. Instead of passing in our variables as arrays (like in `sklearn`), in `statsmodels` we can specify the regression relationship with a special kind of string and let `statsmodels` create the arrays for us.\n",
    "\n",
    "For simple linear regression, we write the formula as: `'target ~ feature'`."
   ]
  },
  {
   "cell_type": "code",
   "execution_count": null,
   "metadata": {},
   "outputs": [],
   "source": [
    "import statsmodels.formula.api as smf\n",
    "\n",
    "# Fit an ordinary least-squares model using the formula interface\n",
    "datascience_model = smf.ols('Interest ~ Week', train_data).fit()\n",
    "# Look at the fitted coefficients of the least-squares line\n",
    "datascience_model.params"
   ]
  },
  {
   "cell_type": "markdown",
   "metadata": {},
   "source": [
    "The `Intercept` parameter tells us the y-intercept for the line and the `Week` parameter tells us the slope. The coefficients say: \"Predict about 27 points of Interest for the first week, and about 0.24 more points for every week that goes by.\""
   ]
  },
  {
   "cell_type": "markdown",
   "metadata": {},
   "source": [
    "# Evaluate the Model #\n",
    "\n",
    "We'll evaluate our predictions with RMSE. In future lessons, we'll learn other metrics that are often used with time series."
   ]
  },
  {
   "cell_type": "code",
   "execution_count": null,
   "metadata": {},
   "outputs": [],
   "source": [
    "from sklearn.metrics import mean_squared_error\n",
    "\n",
    "# In-sample predictions and RMSE\n",
    "train_predictions = datascience_model.predict(train_data)\n",
    "rmse_train = mean_squared_error(train_data.Interest, train_predictions, squared=False)\n",
    "# Out-of-sample predictions (the forecast) and RMSE\n",
    "val_predictions = datascience_model.predict(val_data)\n",
    "rmse_val = mean_squared_error(val_data.Interest, val_predictions, squared=False)\n",
    "\n",
    "print(\"RMSE of fitted predictions:\")\n",
    "print(rmse_train)\n",
    "print()\n",
    "print(\"RMSE of forecast predictions:\")\n",
    "print(rmse_val)"
   ]
  },
  {
   "cell_type": "markdown",
   "metadata": {},
   "source": [
    "Our error increased by about 38% from the training set to the validation set. This suggests that our model is having some trouble generalizing, that is, that the trend of the series isn't truly linear."
   ]
  },
  {
   "cell_type": "markdown",
   "metadata": {},
   "source": [
    "# Interpret Predictions #\n",
    "\n",
    "Let's make a plot of our predictions to get a better idea of what's going on."
   ]
  },
  {
   "cell_type": "code",
   "execution_count": null,
   "metadata": {},
   "outputs": [],
   "source": [
    "plt.figure(figsize=(16,6))\n",
    "sns.lineplot(data=data.Interest, alpha=0.5)\n",
    "sns.lineplot(data=train_predictions, label='Fitted', color='b')\n",
    "sns.lineplot(data=val_predictions, label='Forecast', color='r');\n",
    "plt.title(\"Fitted and forecast predictions from the regression model\")\n",
    "plt.xlabel(\"Date\")\n",
    "plt.ylabel(\"Interest\")\n",
    "plt.legend(title=\"Predictions\")\n",
    "plt.show()"
   ]
  },
  {
   "cell_type": "markdown",
   "metadata": {},
   "source": [
    "You can see that the popularity of \"data science\" tends to fall in the summer and winter and rise Spring and Fall. (Students on break from school?) There's information we aren't using that could help us make our predictions better. In future lessons, we'll see models that can make use of this kind of information."
   ]
  },
  {
   "cell_type": "markdown",
   "metadata": {},
   "source": [
    "# Conclusion #\n",
    "\n",
    "The defining feature of time series is their dependence on a temporal order. This temporal dependence is both a useful source of information, but also a strong constraint. If you haven't worked with time series before, it's likely that . The models you've probably worked with before function best, work best when your applied to data that are iid.\n",
    "\n",
    "One thing we didn't consider was the relative nature of our data. We should consider what we would do if our predictions were above 100 or below 0. We should also consider what a \"constant change\" means in this context.\n",
    "\n",
    "# Your Turn #\n",
    "\n",
    "Now you know how to make forecasts using a linear trend-line. When you're ready, move on to the first exercise!"
   ]
  }
 ],
 "metadata": {
  "kernelspec": {
   "display_name": "Python 3",
   "language": "python",
   "name": "python3"
  }
 },
 "nbformat": 4,
 "nbformat_minor": 2
}
