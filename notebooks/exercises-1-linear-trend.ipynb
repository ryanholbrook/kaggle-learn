{
 "cells": [
  {
   "cell_type": "markdown",
   "metadata": {},
   "source": [
    "# Setup #\n",
    "\n",
    "In this exercise, you'll investigate the popularity trend of the search term [\"machine learning\"](https://trends.google.com/trends/explore?date=2015-01-25%202020-01-25&geo=US&q=machine%20learning) as given by Google Trends."
   ]
  },
  {
   "cell_type": "code",
   "execution_count": null,
   "metadata": {},
   "outputs": [],
   "source": [
    "# dataframes\n",
    "import pandas as pd\n",
    "pd.plotting.register_matplotlib_converters()\n",
    "# graphics\n",
    "import matplotlib.pyplot as plt\n",
    "%matplotlib inline\n",
    "import seaborn as sns\n",
    "\n",
    "# Read the file into a variable 'machinelearning'\n",
    "# Parse the 'Week' column as a date and set it as the index\n",
    "machinelearning = pd.read_csv('data/machinelearning.csv', parse_dates=['Week'], index_col='Week')\n",
    "\n",
    "# View the first five weeks of the 'machinelearning' dataset\n",
    "machinelearning.head()"
   ]
  },
  {
   "cell_type": "markdown",
   "metadata": {},
   "source": [
    "# Plot It #\n",
    "\n",
    "Try plotting the time series. Use the default `pandas` methods or experiment with `seaborn`. Try calling `dir(plt)` to see the methods available to modify the plot and look at help files with `?plt.method`."
   ]
  },
  {
   "cell_type": "code",
   "execution_count": null,
   "metadata": {},
   "outputs": [],
   "source": []
  },
  {
   "cell_type": "markdown",
   "metadata": {},
   "source": [
    "What is different about this time series from the time series for \"data science\"? How do you expect this will affect your predictions?\n",
    "\n",
    "# Create a Time Dummy #\n",
    "\n",
    "Now get your data ready for modeling. First create a time dummy from the `Week`."
   ]
  },
  {
   "cell_type": "code",
   "execution_count": null,
   "metadata": {},
   "outputs": [],
   "source": [
    "# Your code here\n",
    "machinelearning['Week'] = ____"
   ]
  },
  {
   "cell_type": "markdown",
   "metadata": {},
   "source": [
    "# Create and Evaluation Split #\n",
    "\n",
    "Now Split the time series into a training set and a validation set, being sure to preserve the time order."
   ]
  },
  {
   "cell_type": "code",
   "execution_count": null,
   "metadata": {},
   "outputs": [],
   "source": [
    "from sklearn.model_selection import train_test_split\n",
    "\n",
    "# Your code here\n",
    "train_data, val_data = ____"
   ]
  },
  {
   "cell_type": "markdown",
   "metadata": {},
   "source": [
    "# Specify Model #\n",
    "\n",
    "Check your understanding of formulas. Give the appropriate formula for the trend-line model."
   ]
  },
  {
   "cell_type": "code",
   "execution_count": null,
   "metadata": {},
   "outputs": [],
   "source": [
    "# Your code here\n",
    "formula = ____ # 'Interest ~ Week'"
   ]
  },
  {
   "cell_type": "markdown",
   "metadata": {},
   "source": [
    "# Fit Model #\n",
    "\n",
    "Define a linear regression model using the formula interface to `statsmodels`."
   ]
  },
  {
   "cell_type": "code",
   "execution_count": null,
   "metadata": {},
   "outputs": [],
   "source": [
    "import statsmodels.formula.api as smf\n",
    "\n",
    "# Your code here\n",
    "machinelearning_model = ____"
   ]
  },
  {
   "cell_type": "markdown",
   "metadata": {},
   "source": [
    "# Evaluate #\n",
    "\n",
    "Make predictions from the fitted model and evaluate its performance."
   ]
  },
  {
   "cell_type": "code",
   "execution_count": null,
   "metadata": {},
   "outputs": [],
   "source": [
    "from sklearn.metrics import mean_squared_error\n",
    "\n",
    "# Your code here\n",
    "train_predictions = ____\n",
    "rmse_train = ____\n",
    "val_predictions = ____\n",
    "rmse_val = ____"
   ]
  },
  {
   "cell_type": "markdown",
   "metadata": {},
   "source": [
    "# Discuss #\n",
    "\n",
    "One thing we haven't considered in this lesson was the nature of the popularity score. For one, the score has to be within 0 and 100 if we are to preserve the original interpretation. But a linear-trend model could return scores outside of this range. What would we do with a forecast of -20? Of 175? We might also wonder whether RMSE is the right error metric to use for this kind of data.\n",
    "\n",
    "# Keep Going! #\n",
    "\n",
    "You're doing great! Move on to the next lesson and learn about how to break time series down into simpler parts."
   ]
  }
 ],
 "metadata": {
  "kernelspec": {
   "display_name": "Python 3",
   "language": "python",
   "name": "python3"
  }
 },
 "nbformat": 4,
 "nbformat_minor": 2
}
